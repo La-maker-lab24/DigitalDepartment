{
  "cells": [
    {
      "cell_type": "markdown",
      "id": "c3608e28",
      "metadata": {
        "id": "c3608e28"
      },
      "source": [
        "# Домашнее задание №7. И снова Pandas\n",
        "Задания опираются на материалы лекции."
      ]
    },
    {
      "cell_type": "code",
      "execution_count": null,
      "id": "e9613608",
      "metadata": {
        "colab": {
          "base_uri": "https://localhost:8080/"
        },
        "id": "e9613608",
        "outputId": "9e374f21-267c-421a-ea3d-edfe8db5dffc"
      },
      "outputs": [
        {
          "output_type": "stream",
          "name": "stdout",
          "text": [
            "   adult                              belongs_to_collection    budget  \\\n",
            "0  False  {'id': 10194, 'name': 'Toy Story Collection', ...  30000000   \n",
            "\n",
            "                                              genres  \\\n",
            "0  [{'id': 16, 'name': 'Animation'}, {'id': 35, '...   \n",
            "\n",
            "                               homepage   id    imdb_id original_language  \\\n",
            "0  http://toystory.disney.com/toy-story  862  tt0114709                en   \n",
            "\n",
            "  original_title                                           overview  ...  \\\n",
            "0      Toy Story  Led by Woody, Andy's toys live happily in his ...  ...   \n",
            "\n",
            "  release_date      revenue runtime                          spoken_languages  \\\n",
            "0   1995-10-30  373554033.0    81.0  [{'iso_639_1': 'en', 'name': 'English'}]   \n",
            "\n",
            "     status  tagline      title  video vote_average vote_count  \n",
            "0  Released      NaN  Toy Story  False          7.7     5415.0  \n",
            "\n",
            "[1 rows x 24 columns]\n",
            "   userId  movieId  rating   timestamp\n",
            "0       1       31     2.5  1260759144\n"
          ]
        },
        {
          "output_type": "stream",
          "name": "stderr",
          "text": [
            "<ipython-input-32-452075060bea>:2: DtypeWarning: Columns (10) have mixed types. Specify dtype option on import or set low_memory=False.\n",
            "  movies = pd.read_csv(\"movies_metadata.csv\")\n"
          ]
        }
      ],
      "source": [
        "import pandas as pd\n",
        "movies = pd.read_csv(\"movies_metadata.csv\")\n",
        "ratings = pd.read_csv(\"ratings_small.csv\")\n",
        "print(movies.head(1))\n",
        "print(ratings.head(1))"
      ]
    },
    {
      "cell_type": "markdown",
      "id": "0ade4b2e",
      "metadata": {
        "id": "0ade4b2e"
      },
      "source": [
        "## Задание 1\n",
        "Определите, сколько фильмов в датасете с незаполненным бюджетом (0 или nan)."
      ]
    },
    {
      "cell_type": "code",
      "execution_count": null,
      "id": "b93e7027",
      "metadata": {
        "colab": {
          "base_uri": "https://localhost:8080/"
        },
        "id": "b93e7027",
        "outputId": "9f50c5bd-90d7-4ea6-aa3b-b0648c36221a"
      },
      "outputs": [
        {
          "output_type": "stream",
          "name": "stdout",
          "text": [
            "0\n",
            "36573\n",
            "Всего: 36573\n"
          ]
        }
      ],
      "source": [
        "# Напишите свой код в данной ячейке\n",
        "s1 = movies[movies['budget'].isna()]['budget'].count()\n",
        "s2 = movies[movies['budget']=='0']['budget'].count()\n",
        "print(s1)\n",
        "print(s2)\n",
        "print('Всего: '+str(s1+s2))"
      ]
    },
    {
      "cell_type": "markdown",
      "id": "e072dd3e",
      "metadata": {
        "id": "e072dd3e"
      },
      "source": [
        "## Задание 2\n",
        "Как изменится поведение модели предсказания рейтинга по бюджету и популярности, если убрать все объекты с нулями?"
      ]
    },
    {
      "cell_type": "code",
      "execution_count": null,
      "id": "2a9599b5",
      "metadata": {
        "colab": {
          "base_uri": "https://localhost:8080/"
        },
        "id": "2a9599b5",
        "outputId": "75d0ba0d-f094-4f78-9f6f-a3fbdb4e6ab7"
      },
      "outputs": [
        {
          "output_type": "stream",
          "name": "stdout",
          "text": [
            "Mean Squared Error: 1.1257036207096143\n",
            "Mean Squared Error: 1.0944140295786686\n"
          ]
        }
      ],
      "source": [
        "# Напишите свой код в данной ячейке\n",
        "from sklearn.model_selection import train_test_split\n",
        "from sklearn.linear_model import LinearRegression\n",
        "from sklearn.metrics import mean_squared_error\n",
        "\n",
        "movies.id = pd.to_numeric(movies.id, errors='coerce').astype('Int64')\n",
        "ratings.movieId = pd.to_numeric(ratings.movieId, errors='coerce').astype('Int64')\n",
        "data = pd.merge(ratings, movies, left_on='movieId', right_on='id')\n",
        "data['budget'] = pd.to_numeric(data['budget'], errors='coerce')\n",
        "data['popularity'] = pd.to_numeric(data['popularity'], errors='coerce')\n",
        "data['popularity_to_budget'] = data['popularity']/(data['budget'] + 1)\n",
        "model = LinearRegression()\n",
        "\n",
        "# С нулями\n",
        "X = data[['budget', 'popularity']]\n",
        "y = data['rating']\n",
        "X_train, X_test, y_train, y_test = train_test_split(X, y, test_size=0.2, random_state=42)\n",
        "model.fit(X_train, y_train)\n",
        "y_pred = model.predict(X_test)\n",
        "mse = mean_squared_error(y_test, y_pred)\n",
        "print(\"Mean Squared Error:\", mse)\n",
        "\n",
        "# Без нулей\n",
        "data = data[data['budget']!=0]\n",
        "data = data.dropna(subset = ['budget'])\n",
        "X = data[['budget', 'popularity']]\n",
        "y = data['rating']\n",
        "X_train, X_test, y_train, y_test = train_test_split(X, y, test_size=0.2, random_state=42)\n",
        "model.fit(X_train, y_train)\n",
        "y_pred = model.predict(X_test)\n",
        "mse = mean_squared_error(y_test, y_pred)\n",
        "print(\"Mean Squared Error:\", mse)"
      ]
    },
    {
      "cell_type": "markdown",
      "id": "a9453b5b",
      "metadata": {
        "id": "a9453b5b"
      },
      "source": [
        "## Задание 3\n",
        "Оставьте в оценках по фильму только среднюю оценку фильма, а не все оценки. Сделайте мердж, предсказывайте оценку, как в примере на лекции. Как изменится поведение модели?"
      ]
    },
    {
      "cell_type": "code",
      "execution_count": null,
      "id": "10311fa4",
      "metadata": {
        "colab": {
          "base_uri": "https://localhost:8080/"
        },
        "id": "10311fa4",
        "outputId": "2bc2410c-ebfb-4ead-825f-7d42449b68b2"
      },
      "outputs": [
        {
          "output_type": "stream",
          "name": "stdout",
          "text": [
            "Mean Squared Error: 0.011467550454085106\n"
          ]
        }
      ],
      "source": [
        "# Напишите свой код в данной ячейке\n",
        "from sklearn.model_selection import train_test_split\n",
        "from sklearn.linear_model import LinearRegression\n",
        "from sklearn.metrics import mean_squared_error\n",
        "\n",
        "data1 = data[data['rating'] == data['vote_average']]\n",
        "model = LinearRegression()\n",
        "\n",
        "X = data1[['budget', 'popularity']]\n",
        "y = data1['rating']\n",
        "X_train, X_test, y_train, y_test = train_test_split(X, y, test_size=0.2, random_state=42)\n",
        "model.fit(X_train, y_train)\n",
        "y_pred = model.predict(X_test)\n",
        "mse = mean_squared_error(y_test, y_pred)\n",
        "print(\"Mean Squared Error:\", mse)"
      ]
    },
    {
      "cell_type": "markdown",
      "id": "66b885a4",
      "metadata": {
        "id": "66b885a4"
      },
      "source": [
        "## Задание 4\n",
        "Найдите все фильмы, которые были выпущены в тот же год, что и Матрица, имеют длину фильма в диапазоне +- 20 минут от длительности фильма Матрица."
      ]
    },
    {
      "cell_type": "code",
      "execution_count": null,
      "id": "89d21b03",
      "metadata": {
        "id": "89d21b03",
        "colab": {
          "base_uri": "https://localhost:8080/"
        },
        "outputId": "ae08744c-c718-4499-a8c2-c81a8ad5f698"
      },
      "outputs": [
        {
          "output_type": "stream",
          "name": "stdout",
          "text": [
            "       userId  movieId  rating  timestamp  adult belongs_to_collection  \\\n",
            "48          2      509     4.0  835355719  False                   NaN   \n",
            "52          2      550     3.0  835356109  False                   NaN   \n",
            "120         4     1073     5.0  949919372  False                   NaN   \n",
            "124         4     1213     5.0  949895708  False                   NaN   \n",
            "319         7     1073     3.0  851866744  False                   NaN   \n",
            "...       ...      ...     ...        ...    ...                   ...   \n",
            "44696     665     1073     5.0  992909099  False                   NaN   \n",
            "44699     665     1213     4.0  995233253  False                   NaN   \n",
            "44840     666      509     3.0  838921185  False                   NaN   \n",
            "44897     667      509     3.0  847271685  False                   NaN   \n",
            "44914     668     1213     5.0  993613359  False                   NaN   \n",
            "\n",
            "         budget                                             genres  \\\n",
            "48     42000000  [{'id': 10749, 'name': 'Romance'}, {'id': 35, ...   \n",
            "52     63000000                      [{'id': 18, 'name': 'Drama'}]   \n",
            "120    21500000  [{'id': 18, 'name': 'Drama'}, {'id': 53, 'name...   \n",
            "124    40000000  [{'id': 53, 'name': 'Thriller'}, {'id': 80, 'n...   \n",
            "319    21500000  [{'id': 18, 'name': 'Drama'}, {'id': 53, 'name...   \n",
            "...         ...                                                ...   \n",
            "44696  21500000  [{'id': 18, 'name': 'Drama'}, {'id': 53, 'name...   \n",
            "44699  40000000  [{'id': 53, 'name': 'Thriller'}, {'id': 80, 'n...   \n",
            "44840  42000000  [{'id': 10749, 'name': 'Romance'}, {'id': 35, ...   \n",
            "44897  42000000  [{'id': 10749, 'name': 'Romance'}, {'id': 35, ...   \n",
            "44914  40000000  [{'id': 53, 'name': 'Thriller'}, {'id': 80, 'n...   \n",
            "\n",
            "                                                homepage    id  ...  \\\n",
            "48                          http://www.notting-hill.com/   509  ...   \n",
            "52            http://www.foxmovies.com/movies/fight-club   550  ...   \n",
            "120                                                  NaN  1073  ...   \n",
            "124    http://www.miramax.com/movie/the-talented-mr-r...  1213  ...   \n",
            "319                                                  NaN  1073  ...   \n",
            "...                                                  ...   ...  ...   \n",
            "44696                                                NaN  1073  ...   \n",
            "44699  http://www.miramax.com/movie/the-talented-mr-r...  1213  ...   \n",
            "44840                       http://www.notting-hill.com/   509  ...   \n",
            "44897                       http://www.notting-hill.com/   509  ...   \n",
            "44914  http://www.miramax.com/movie/the-talented-mr-r...  1213  ...   \n",
            "\n",
            "           revenue runtime                                   spoken_languages  \\\n",
            "48     363889678.0   124.0  [{'iso_639_1': 'en', 'name': 'English'}, {'iso...   \n",
            "52     100853753.0   139.0           [{'iso_639_1': 'en', 'name': 'English'}]   \n",
            "120            0.0   117.0           [{'iso_639_1': 'en', 'name': 'English'}]   \n",
            "124    128798265.0   139.0  [{'iso_639_1': 'en', 'name': 'English'}, {'iso...   \n",
            "319            0.0   117.0           [{'iso_639_1': 'en', 'name': 'English'}]   \n",
            "...            ...     ...                                                ...   \n",
            "44696          0.0   117.0           [{'iso_639_1': 'en', 'name': 'English'}]   \n",
            "44699  128798265.0   139.0  [{'iso_639_1': 'en', 'name': 'English'}, {'iso...   \n",
            "44840  363889678.0   124.0  [{'iso_639_1': 'en', 'name': 'English'}, {'iso...   \n",
            "44897  363889678.0   124.0  [{'iso_639_1': 'en', 'name': 'English'}, {'iso...   \n",
            "44914  128798265.0   139.0  [{'iso_639_1': 'en', 'name': 'English'}, {'iso...   \n",
            "\n",
            "         status                                            tagline  \\\n",
            "48     Released  Can the most famous film star in the world fal...   \n",
            "52     Released                            Mischief. Mayhem. Soap.   \n",
            "120    Released                             Your Paranoia Is Real.   \n",
            "124    Released       How far would you go to become someone else?   \n",
            "319    Released                             Your Paranoia Is Real.   \n",
            "...         ...                                                ...   \n",
            "44696  Released                             Your Paranoia Is Real.   \n",
            "44699  Released       How far would you go to become someone else?   \n",
            "44840  Released  Can the most famous film star in the world fal...   \n",
            "44897  Released  Can the most famous film star in the world fal...   \n",
            "44914  Released       How far would you go to become someone else?   \n",
            "\n",
            "                         title  video vote_average vote_count  \\\n",
            "48                Notting Hill  False          7.0     1309.0   \n",
            "52                  Fight Club  False          8.3     9678.0   \n",
            "120             Arlington Road  False          7.0      246.0   \n",
            "124    The Talented Mr. Ripley  False          7.1      790.0   \n",
            "319             Arlington Road  False          7.0      246.0   \n",
            "...                        ...    ...          ...        ...   \n",
            "44696           Arlington Road  False          7.0      246.0   \n",
            "44699  The Talented Mr. Ripley  False          7.1      790.0   \n",
            "44840             Notting Hill  False          7.0     1309.0   \n",
            "44897             Notting Hill  False          7.0     1309.0   \n",
            "44914  The Talented Mr. Ripley  False          7.1      790.0   \n",
            "\n",
            "       popularity_to_budget  \n",
            "48             2.350963e-07  \n",
            "52             1.013803e-06  \n",
            "120            4.002632e-07  \n",
            "124            2.913755e-07  \n",
            "319            4.002632e-07  \n",
            "...                     ...  \n",
            "44696          4.002632e-07  \n",
            "44699          2.913755e-07  \n",
            "44840          2.350963e-07  \n",
            "44897          2.350963e-07  \n",
            "44914          2.913755e-07  \n",
            "\n",
            "[407 rows x 29 columns]\n"
          ]
        }
      ],
      "source": [
        "# Напишите свой код в данной ячейке\n",
        "matrixYear = data[data['title']=='The Matrix'].iloc[0]['release_date'][:4]\n",
        "matrixDuration = data[data['title']=='The Matrix'].iloc[0]['runtime']\n",
        "data2 = data[(data['release_date'].str[:4] == matrixYear) & (data['runtime'] >= matrixDuration-20) & (data['runtime'] <= matrixDuration+20)]\n",
        "print(data2)"
      ]
    },
    {
      "cell_type": "markdown",
      "id": "f3d4b235",
      "metadata": {
        "id": "f3d4b235"
      },
      "source": [
        "## Задание 5\n",
        "Визуализируйте информацию о числе оценок и о средей оценке пользователей о фильме, но только среди фильмом из предыдущего пункта."
      ]
    },
    {
      "cell_type": "code",
      "execution_count": 71,
      "id": "5188bcd3",
      "metadata": {
        "id": "5188bcd3",
        "colab": {
          "base_uri": "https://localhost:8080/",
          "height": 472
        },
        "outputId": "66b5b1bc-63e8-4d07-c202-aa94f3301639"
      },
      "outputs": [
        {
          "output_type": "display_data",
          "data": {
            "text/plain": [
              "<Figure size 640x480 with 1 Axes>"
            ],
            "image/png": "[encoded data removed]"
          },
          "metadata": {}
        }
      ],
      "source": [
        "# Напишите свой код в данной ячейке\n",
        "import seaborn as sns\n",
        "import matplotlib.pyplot as plt\n",
        "\n",
        "sns.histplot(data = data2, x='vote_count', y='vote_average', bins=10)\n",
        "plt.title(\"Распределение оценок фильмов\")\n",
        "plt.xlabel(\"Число оценок\")\n",
        "plt.ylabel(\"Средняя оценка\")\n",
        "plt.show()"
      ]
    }
  ],
  "metadata": {
    "kernelspec": {
      "display_name": "Python 3 (ipykernel)",
      "language": "python",
      "name": "python3"
    },
    "language_info": {
      "codemirror_mode": {
        "name": "ipython",
        "version": 3
      },
      "file_extension": ".py",
      "mimetype": "text/x-python",
      "name": "python",
      "nbconvert_exporter": "python",
      "pygments_lexer": "ipython3",
      "version": "3.11.5"
    },
    "colab": {
      "provenance": []
    }
  },
  "nbformat": 4,
  "nbformat_minor": 5
}